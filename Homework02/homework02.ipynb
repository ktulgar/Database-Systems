{
 "cells": [
  {
   "cell_type": "markdown",
   "source": [
    "# Question 1"
   ],
   "metadata": {
    "collapsed": false
   }
  },
  {
   "cell_type": "code",
   "execution_count": 2,
   "metadata": {
    "collapsed": true
   },
   "outputs": [],
   "source": [
    "import mysql.connector\n",
    "database = mysql.connector.connect(host=\"localhost\", user=\"root\", passwd=\"123456789\")\n",
    "cursor = database.cursor()\n",
    "cursor.execute(\"create database Bank\")  # I created the our database.\n",
    "cursor.execute(\"use Bank\")              # I selected the database that i will make operations on."
   ]
  },
  {
   "cell_type": "markdown",
   "source": [
    "# Question 2"
   ],
   "metadata": {
    "collapsed": false
   }
  },
  {
   "cell_type": "code",
   "execution_count": 3,
   "outputs": [],
   "source": [
    "# customer_id is our primary key. Because it must be unique.It will increase itself automatically.\n",
    "# name represents customer's name whose length can be max 50.\n",
    "# lastname represents customer's surname whose length can be max 50.\n",
    "# registration_date represents date when customer registered into bank.\n",
    "# score represents customer's score which is integer\n",
    "# I specified customer_id as the primary key of table of Customer.\n",
    "\n",
    "customer_table =\"create table Customer(\" \\\n",
    "                \"customer_id int AUTO_INCREMENT, \" \\\n",
    "                \"name varchar(50),\" \\\n",
    "                \"lastname varchar(50),\" \\\n",
    "                \"registration_date date,\" \\\n",
    "                \"score int,\" \\\n",
    "                \"Primary Key(customer_id))\"\n",
    "\n",
    "\n",
    "cursor.execute(customer_table)\n",
    "\n",
    "# branch_id is our primary key. Because it must be unique.It will increase itself automatically.\n",
    "# branch_name represents branch's name whose length can be max 50.\n",
    "# cash_hold represents amount of cash that bank holds in that branch.\n",
    "# foundation_date represents date when that branch has been found.\n",
    "# liability is what the bank owes to others.Its data type is float.\n",
    "# I specified branch_id as the primary key of table of Branch.\n",
    "\n",
    "branch_table = \"create table Branch(\" \\\n",
    "               \"branch_id int AUTO_INCREMENT,\" \\\n",
    "               \"branch_name varchar(50),\" \\\n",
    "               \"cash_hold float,\" \\\n",
    "               \"foundation_date date,\" \\\n",
    "               \"liability float,\" \\\n",
    "               \"Primary Key(branch_id))\"\n",
    "\n",
    "cursor.execute(branch_table)\n",
    "\n",
    "# loan_id is our primary key. Because it must be unique.It will increase itself automatically.\n",
    "# customerId represents the customer who took out a loan.It is also foreign key.\n",
    "# branchId represents the branch which loan has been took out.It is also foreign key.\n",
    "# amount represents the amount of loan.\n",
    "# I specified customer_id as the one of foreign keys of table of Loan.\n",
    "# I specified branch_id as the one of foreign keys of table of Loan.\n",
    "\n",
    "loan_table = \"create table Loan(\" \\\n",
    "             \"loan_id int AUTO_INCREMENT,\" \\\n",
    "             \"customerId int,\" \\\n",
    "             \"branchId int,\" \\\n",
    "             \"amount int,\" \\\n",
    "             \"Foreign Key(customerId) references Customer(customer_id),\" \\\n",
    "             \"Foreign Key(branchId) references Branch(branch_id),\" \\\n",
    "             \"Primary Key(loan_id))\" \\\n",
    "\n",
    "\n",
    "\n",
    "cursor.execute(loan_table)"
   ],
   "metadata": {
    "collapsed": false
   }
  },
  {
   "cell_type": "markdown",
   "source": [
    "# Question 3"
   ],
   "metadata": {
    "collapsed": false
   }
  },
  {
   "cell_type": "code",
   "execution_count": 4,
   "outputs": [],
   "source": [
    "# 5 customers\n",
    "customer_query = \"insert into Customer(name,lastname,registration_date,score) values(%s,%s,%s,%s)\"\n",
    "customers =[(\"Kazım\",\"Tulgaroğlu\",\"2020-10-25\",100),\n",
    "            (\"Hugh\",\"Jackman\",\"2019-10-24\",125),\n",
    "            (\"Steve\",\"Carell\",\"2018-01-04\",1000),\n",
    "            (\"Keira\",\"Knightley\",\"2021-11-24\",250),\n",
    "            (\"Florence\",\"Pugh\",\"2020-08-20\",585)]\n",
    "\n",
    "cursor.executemany(customer_query,customers)\n",
    "\n",
    "# 8 Branches\n",
    "branch_query = \"insert into Branch(branch_name,cash_hold,foundation_date,liability) values(%s,%s,%s,%s)\"\n",
    "branches =[ (\"California\",20000,\"2001-05-05\",1.88),\n",
    "            (\"Manchester\",35000,\"2001-06-23\",1.78),\n",
    "            (\"New York\",20000,\"1999-11-25\",1.68),\n",
    "            (\"Istanbul\",53542,\"1999-01-05\",1.5),\n",
    "            (\"Berlin\",100000,\"1997-07-23\",0.25),\n",
    "            (\"Amsterdam\",5000,\"1997-10-24\",0.75),\n",
    "            (\"Paris\",7000,\"2003-10-24\",0.85),\n",
    "            (\"London\",18000,\"2003-09-01\",2)]\n",
    "cursor.executemany(branch_query,branches)\n",
    "\n",
    "# 9 Loans\n",
    "loan_query = \"insert into Loan(customerId,branchId,amount) values(%s,%s,%s)\"\n",
    "loans =[    (1,2,28000),\n",
    "            (2,1,12456),\n",
    "            (3,3,100000),\n",
    "            (4,2,4500),\n",
    "            (3,4,2364),\n",
    "            (4,7,7520),\n",
    "            (5,8,2364),\n",
    "            (4,5,6314),\n",
    "            (5,6,1300)]\n",
    "cursor.executemany(loan_query,loans)\n",
    "\n",
    "\n",
    "database.commit()  # It is used to commit the changes made to the table\n",
    "\n"
   ],
   "metadata": {
    "collapsed": false
   }
  },
  {
   "cell_type": "markdown",
   "source": [
    "# Let's see whether records are saved into database or not"
   ],
   "metadata": {
    "collapsed": false
   }
  },
  {
   "cell_type": "code",
   "execution_count": 5,
   "outputs": [
    {
     "name": "stdout",
     "output_type": "stream",
     "text": [
      "Customers\n",
      "(1, 'Kazım', 'Tulgaroğlu', datetime.date(2020, 10, 25), 100)\n",
      "(2, 'Hugh', 'Jackman', datetime.date(2019, 10, 24), 125)\n",
      "(3, 'Steve', 'Carell', datetime.date(2018, 1, 4), 1000)\n",
      "(4, 'Keira', 'Knightley', datetime.date(2021, 11, 24), 250)\n",
      "(5, 'Florence', 'Pugh', datetime.date(2020, 8, 20), 585)\n",
      "Branches\n",
      "(1, 'California', 20000.0, datetime.date(2001, 5, 5), 1.88)\n",
      "(2, 'Manchester', 35000.0, datetime.date(2001, 6, 23), 1.78)\n",
      "(3, 'New York', 20000.0, datetime.date(1999, 11, 25), 1.68)\n",
      "(4, 'Istanbul', 53542.0, datetime.date(1999, 1, 5), 1.5)\n",
      "(5, 'Berlin', 100000.0, datetime.date(1997, 7, 23), 0.25)\n",
      "(6, 'Amsterdam', 5000.0, datetime.date(1997, 10, 24), 0.75)\n",
      "(7, 'Paris', 7000.0, datetime.date(2003, 10, 24), 0.85)\n",
      "(8, 'London', 18000.0, datetime.date(2003, 9, 1), 2.0)\n",
      "Loans\n",
      "(1, 1, 2, 28000)\n",
      "(2, 2, 1, 12456)\n",
      "(3, 3, 3, 100000)\n",
      "(4, 4, 2, 4500)\n",
      "(5, 3, 4, 2364)\n",
      "(6, 4, 7, 7520)\n",
      "(7, 5, 8, 2364)\n",
      "(8, 4, 5, 6314)\n",
      "(9, 5, 6, 1300)\n"
     ]
    }
   ],
   "source": [
    "print(\"Customers\")\n",
    "cursor.execute(\"Select * from Customer\")\n",
    "customers = cursor.fetchall()\n",
    "for customer in customers:\n",
    "    print(customer)\n",
    "\n",
    "print(\"Branches\")\n",
    "cursor.execute(\"Select * from Branch\")\n",
    "branches = cursor.fetchall()\n",
    "for branch in branches:\n",
    "    print(branch)\n",
    "\n",
    "print(\"Loans\")\n",
    "cursor.execute(\"Select * from Loan\")\n",
    "loans = cursor.fetchall()\n",
    "for loan in loans:\n",
    "    print(loan)"
   ],
   "metadata": {
    "collapsed": false
   }
  },
  {
   "cell_type": "markdown",
   "source": [
    "# Question 4.1"
   ],
   "metadata": {
    "collapsed": false
   }
  },
  {
   "cell_type": "code",
   "execution_count": 6,
   "outputs": [
    {
     "name": "stdout",
     "output_type": "stream",
     "text": [
      "(1, 'California', 20000.0, datetime.date(2001, 5, 5), 1.88)\n",
      "(2, 'Manchester', 35000.0, datetime.date(2001, 6, 23), 1.78)\n",
      "(3, 'New York', 20000.0, datetime.date(1999, 11, 25), 1.68)\n",
      "(8, 'London', 18000.0, datetime.date(2003, 9, 1), 2.0)\n"
     ]
    }
   ],
   "source": [
    "# I collected the branches whose liabilities is higher than 1.5 in a table called PRESTIGIOUS\n",
    "prestigious_query = \"create table PRESTIGIOUS as (select * from Branch where liability > 1.5)\"\n",
    "cursor.execute(prestigious_query)\n",
    "cursor.execute(\"Select * from PRESTIGIOUS\")\n",
    "prestigious_branches = cursor.fetchall()\n",
    "for prestigious_branch in prestigious_branches:\n",
    "    print(prestigious_branch)"
   ],
   "metadata": {
    "collapsed": false
   }
  },
  {
   "cell_type": "markdown",
   "source": [
    "# Question 4.2"
   ],
   "metadata": {
    "collapsed": false
   }
  },
  {
   "cell_type": "code",
   "execution_count": 7,
   "outputs": [
    {
     "name": "stdout",
     "output_type": "stream",
     "text": [
      "(4, 'Istanbul', 53542.0, datetime.date(1999, 1, 5), 1.5)\n",
      "(5, 'Berlin', 100000.0, datetime.date(1997, 7, 23), 0.25)\n"
     ]
    }
   ],
   "source": [
    "# I collected the branches whose cash_hold is higher than 50000 in a table called MINI\n",
    "mini_query = \"create table MINI as (select * from Branch where cash_hold > 50000)\"\n",
    "cursor.execute(mini_query)\n",
    "cursor.execute(\"Select * from MINI\")\n",
    "mini_branches = cursor.fetchall()\n",
    "for mini_branch in mini_branches:\n",
    "    print(mini_branch)"
   ],
   "metadata": {
    "collapsed": false
   }
  },
  {
   "cell_type": "markdown",
   "source": [
    "# Question 4.3"
   ],
   "metadata": {
    "collapsed": false
   }
  },
  {
   "cell_type": "code",
   "execution_count": 8,
   "outputs": [
    {
     "name": "stdout",
     "output_type": "stream",
     "text": [
      "('California', 1.88)\n",
      "('Manchester', 1.78)\n",
      "('New York', 1.68)\n",
      "('London', 2.0)\n"
     ]
    }
   ],
   "source": [
    "# I collected names and liabilities of  prestigious branches in a table called RESULT1\n",
    "result1_query = \"create table RESULT1 as (select branch_name,liability from PRESTIGIOUS)\"\n",
    "cursor.execute(result1_query)\n",
    "cursor.execute(\"Select * from RESULT1\")\n",
    "result1_records = cursor.fetchall()\n",
    "for result1_record in result1_records:\n",
    "    print(result1_record)"
   ],
   "metadata": {
    "collapsed": false
   }
  },
  {
   "cell_type": "markdown",
   "source": [
    "# Question 4.4"
   ],
   "metadata": {
    "collapsed": false
   }
  },
  {
   "cell_type": "code",
   "execution_count": 9,
   "outputs": [
    {
     "name": "stdout",
     "output_type": "stream",
     "text": [
      "('Istanbul', 1.5)\n",
      "('Berlin', 0.25)\n",
      "('California', 1.88)\n",
      "('Manchester', 1.78)\n",
      "('New York', 1.68)\n",
      "('London', 2.0)\n"
     ]
    }
   ],
   "source": [
    "# I unified the tables of MINI and PRESTIGIOUS.\n",
    "# After that , i collected the branch_names and liabilities in a table called RESULT2\n",
    "result2_query = \"create table RESULT2 as (SELECT branch_name,liability FROM MINI UNION SELECT branch_name,liability FROM PRESTIGIOUS)\"\n",
    "cursor.execute(result2_query)\n",
    "cursor.execute(\"Select * from RESULT2\")\n",
    "result2_records = cursor.fetchall()\n",
    "for result2_record in result2_records:\n",
    "    print(result2_record)"
   ],
   "metadata": {
    "collapsed": false
   }
  },
  {
   "cell_type": "markdown",
   "source": [
    "# Question 4.5"
   ],
   "metadata": {
    "collapsed": false
   }
  },
  {
   "cell_type": "code",
   "execution_count": 10,
   "outputs": [
    {
     "name": "stdout",
     "output_type": "stream",
     "text": [
      "(5, 'Florence', 'Pugh', datetime.date(2020, 8, 20), 585, 1, 1, 2, 28000)\n",
      "(4, 'Keira', 'Knightley', datetime.date(2021, 11, 24), 250, 1, 1, 2, 28000)\n",
      "(3, 'Steve', 'Carell', datetime.date(2018, 1, 4), 1000, 1, 1, 2, 28000)\n",
      "(2, 'Hugh', 'Jackman', datetime.date(2019, 10, 24), 125, 1, 1, 2, 28000)\n",
      "(1, 'Kazım', 'Tulgaroğlu', datetime.date(2020, 10, 25), 100, 1, 1, 2, 28000)\n",
      "(5, 'Florence', 'Pugh', datetime.date(2020, 8, 20), 585, 2, 2, 1, 12456)\n",
      "(4, 'Keira', 'Knightley', datetime.date(2021, 11, 24), 250, 2, 2, 1, 12456)\n",
      "(3, 'Steve', 'Carell', datetime.date(2018, 1, 4), 1000, 2, 2, 1, 12456)\n",
      "(2, 'Hugh', 'Jackman', datetime.date(2019, 10, 24), 125, 2, 2, 1, 12456)\n",
      "(1, 'Kazım', 'Tulgaroğlu', datetime.date(2020, 10, 25), 100, 2, 2, 1, 12456)\n",
      "(5, 'Florence', 'Pugh', datetime.date(2020, 8, 20), 585, 3, 3, 3, 100000)\n",
      "(4, 'Keira', 'Knightley', datetime.date(2021, 11, 24), 250, 3, 3, 3, 100000)\n",
      "(3, 'Steve', 'Carell', datetime.date(2018, 1, 4), 1000, 3, 3, 3, 100000)\n",
      "(2, 'Hugh', 'Jackman', datetime.date(2019, 10, 24), 125, 3, 3, 3, 100000)\n",
      "(1, 'Kazım', 'Tulgaroğlu', datetime.date(2020, 10, 25), 100, 3, 3, 3, 100000)\n",
      "(5, 'Florence', 'Pugh', datetime.date(2020, 8, 20), 585, 4, 4, 2, 4500)\n",
      "(4, 'Keira', 'Knightley', datetime.date(2021, 11, 24), 250, 4, 4, 2, 4500)\n",
      "(3, 'Steve', 'Carell', datetime.date(2018, 1, 4), 1000, 4, 4, 2, 4500)\n",
      "(2, 'Hugh', 'Jackman', datetime.date(2019, 10, 24), 125, 4, 4, 2, 4500)\n",
      "(1, 'Kazım', 'Tulgaroğlu', datetime.date(2020, 10, 25), 100, 4, 4, 2, 4500)\n",
      "(5, 'Florence', 'Pugh', datetime.date(2020, 8, 20), 585, 5, 3, 4, 2364)\n",
      "(4, 'Keira', 'Knightley', datetime.date(2021, 11, 24), 250, 5, 3, 4, 2364)\n",
      "(3, 'Steve', 'Carell', datetime.date(2018, 1, 4), 1000, 5, 3, 4, 2364)\n",
      "(2, 'Hugh', 'Jackman', datetime.date(2019, 10, 24), 125, 5, 3, 4, 2364)\n",
      "(1, 'Kazım', 'Tulgaroğlu', datetime.date(2020, 10, 25), 100, 5, 3, 4, 2364)\n",
      "(5, 'Florence', 'Pugh', datetime.date(2020, 8, 20), 585, 6, 4, 7, 7520)\n",
      "(4, 'Keira', 'Knightley', datetime.date(2021, 11, 24), 250, 6, 4, 7, 7520)\n",
      "(3, 'Steve', 'Carell', datetime.date(2018, 1, 4), 1000, 6, 4, 7, 7520)\n",
      "(2, 'Hugh', 'Jackman', datetime.date(2019, 10, 24), 125, 6, 4, 7, 7520)\n",
      "(1, 'Kazım', 'Tulgaroğlu', datetime.date(2020, 10, 25), 100, 6, 4, 7, 7520)\n",
      "(5, 'Florence', 'Pugh', datetime.date(2020, 8, 20), 585, 7, 5, 8, 2364)\n",
      "(4, 'Keira', 'Knightley', datetime.date(2021, 11, 24), 250, 7, 5, 8, 2364)\n",
      "(3, 'Steve', 'Carell', datetime.date(2018, 1, 4), 1000, 7, 5, 8, 2364)\n",
      "(2, 'Hugh', 'Jackman', datetime.date(2019, 10, 24), 125, 7, 5, 8, 2364)\n",
      "(1, 'Kazım', 'Tulgaroğlu', datetime.date(2020, 10, 25), 100, 7, 5, 8, 2364)\n",
      "(5, 'Florence', 'Pugh', datetime.date(2020, 8, 20), 585, 8, 4, 5, 6314)\n",
      "(4, 'Keira', 'Knightley', datetime.date(2021, 11, 24), 250, 8, 4, 5, 6314)\n",
      "(3, 'Steve', 'Carell', datetime.date(2018, 1, 4), 1000, 8, 4, 5, 6314)\n",
      "(2, 'Hugh', 'Jackman', datetime.date(2019, 10, 24), 125, 8, 4, 5, 6314)\n",
      "(1, 'Kazım', 'Tulgaroğlu', datetime.date(2020, 10, 25), 100, 8, 4, 5, 6314)\n",
      "(5, 'Florence', 'Pugh', datetime.date(2020, 8, 20), 585, 9, 5, 6, 1300)\n",
      "(4, 'Keira', 'Knightley', datetime.date(2021, 11, 24), 250, 9, 5, 6, 1300)\n",
      "(3, 'Steve', 'Carell', datetime.date(2018, 1, 4), 1000, 9, 5, 6, 1300)\n",
      "(2, 'Hugh', 'Jackman', datetime.date(2019, 10, 24), 125, 9, 5, 6, 1300)\n",
      "(1, 'Kazım', 'Tulgaroğlu', datetime.date(2020, 10, 25), 100, 9, 5, 6, 1300)\n"
     ]
    }
   ],
   "source": [
    "# It is a cartesian product operations.Number of records will be 45 which is product of number of records of customers and number of records of loans.\n",
    "result3_query = \"create table RESULT3 as (SELECT * from Customer cross join Loan)\"\n",
    "cursor.execute(result3_query)\n",
    "cursor.execute(\"Select * from RESULT3\")\n",
    "result3_records = cursor.fetchall()\n",
    "for result3_record in result3_records:\n",
    "    print(result3_record)"
   ],
   "metadata": {
    "collapsed": false
   }
  },
  {
   "cell_type": "markdown",
   "source": [
    "# Question 4.6"
   ],
   "metadata": {
    "collapsed": false
   }
  },
  {
   "cell_type": "code",
   "execution_count": 11,
   "outputs": [
    {
     "name": "stdout",
     "output_type": "stream",
     "text": [
      "(1, 'California', 20000.0, datetime.date(2001, 5, 5), 1.88, 2, 2, 1, 12456)\n",
      "(2, 'Manchester', 35000.0, datetime.date(2001, 6, 23), 1.78, 1, 1, 2, 28000)\n",
      "(2, 'Manchester', 35000.0, datetime.date(2001, 6, 23), 1.78, 4, 4, 2, 4500)\n",
      "(3, 'New York', 20000.0, datetime.date(1999, 11, 25), 1.68, 3, 3, 3, 100000)\n",
      "(8, 'London', 18000.0, datetime.date(2003, 9, 1), 2.0, 7, 5, 8, 2364)\n"
     ]
    }
   ],
   "source": [
    "# result4 is a table that shows loans that has been got from prestigious branches\n",
    "result4_query = \"create table RESULT4 as (SELECT * from PRESTIGIOUS inner join Loan on PRESTIGIOUS.branch_id = Loan.branchId )\"\n",
    "cursor.execute(result4_query)\n",
    "cursor.execute(\"Select * from RESULT4\")\n",
    "result4_records = cursor.fetchall()\n",
    "for result4_record in result4_records:\n",
    "    print(result4_record)"
   ],
   "metadata": {
    "collapsed": false
   }
  },
  {
   "cell_type": "markdown",
   "source": [
    " # Question 5"
   ],
   "metadata": {
    "collapsed": false
   }
  },
  {
   "cell_type": "code",
   "execution_count": 12,
   "outputs": [
    {
     "name": "stdout",
     "output_type": "stream",
     "text": [
      "Keira Knightley borrowed  6314 $ from branch of Berlin\n",
      "Florence Pugh borrowed  1300 $ from branch of Amsterdam\n",
      "Keira Knightley borrowed  7520 $ from branch of Paris\n"
     ]
    }
   ],
   "source": [
    "# Non-prestigious branches are the branches whose liability is lower than 1.5.Firstly i collected them in a temporary table.\n",
    "NonPRESTIGIOUS_table = \"create temporary table Non_PRESTIGIOUS as (select * from Branch where liability < 1.5)\"\n",
    "cursor.execute(NonPRESTIGIOUS_table)\n",
    "# I collected loans taken from non-prestigious branches in temporary table.\n",
    "loans_from_NonPRESTIGIOUS_branches = \"create temporary table Non_PRESTIGIOUS_Loans as (select customerId,amount,branch_name from Loan inner join Non_PRESTIGIOUS on Loan.branchId = Non_PRESTIGIOUS.branch_id)\"\n",
    "cursor.execute(loans_from_NonPRESTIGIOUS_branches)\n",
    "# lastly, i got the informations about the customers who got those loans.\n",
    "customers_from_NonPRESTIGIOUS_branches = \"select name,lastname,amount,branch_name from Customer inner join Non_PRESTIGIOUS_Loans on Customer.customer_id = Non_PRESTIGIOUS_Loans.customerId\"\n",
    "cursor.execute(customers_from_NonPRESTIGIOUS_branches)\n",
    "rows = cursor.fetchall()\n",
    "\n",
    "for row in rows:\n",
    "   print(row[0]+\" \"+row[1]+\" borrowed  \"+str(row[2])+\" $ from branch of \"+row[3])"
   ],
   "metadata": {
    "collapsed": false
   }
  },
  {
   "cell_type": "markdown",
   "source": [
    " # Question 6"
   ],
   "metadata": {
    "collapsed": false
   }
  },
  {
   "cell_type": "code",
   "execution_count": 13,
   "outputs": [
    {
     "name": "stdout",
     "output_type": "stream",
     "text": [
      "The total loan amount for the banks founded in 2001 is 44956 $.\n",
      "The total loan amount for the banks founded in 1999 is 102364 $.\n",
      "The total loan amount for the banks founded in 1997 is 7614 $.\n",
      "The total loan amount for the banks founded in 2003 is 9884 $.\n"
     ]
    }
   ],
   "source": [
    "# I concatenated tables of loan and branch using INNER JOIN.\n",
    "cursor.execute(\"create temporary table loans_and_dates as (select Loan.amount ,year(Branch.foundation_date) as year from Loan inner join Branch on Loan.branchId = Branch.branch_id)\")\n",
    "# I added up the amounts with respect to year.\n",
    "cursor.execute(\" select year,sum(amount) as totalAmount from loans_and_dates group by year\")\n",
    "rows = cursor.fetchall()\n",
    "\n",
    "for row in rows:\n",
    "    print(\"The total loan amount for the banks founded in \"+str(row[0])+\" is \"+str(row[1])+\" $.\")"
   ],
   "metadata": {
    "collapsed": false
   }
  }
 ],
 "metadata": {
  "kernelspec": {
   "display_name": "Python 3",
   "language": "python",
   "name": "python3"
  },
  "language_info": {
   "codemirror_mode": {
    "name": "ipython",
    "version": 2
   },
   "file_extension": ".py",
   "mimetype": "text/x-python",
   "name": "python",
   "nbconvert_exporter": "python",
   "pygments_lexer": "ipython2",
   "version": "2.7.6"
  }
 },
 "nbformat": 4,
 "nbformat_minor": 0
}
